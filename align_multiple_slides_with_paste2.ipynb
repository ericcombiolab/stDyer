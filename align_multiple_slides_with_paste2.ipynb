{
 "cells": [
  {
   "cell_type": "code",
   "execution_count": null,
   "metadata": {},
   "outputs": [],
   "source": [
    "import sys\n",
    "sys.path.insert(1, '/path/to/paste2/src')\n",
    "from paste2 import PASTE2, model_selection, projection\n",
    "import anndata\n",
    "import os\n",
    "import os.path as osp\n",
    "import scanpy as sc"
   ]
  },
  {
   "cell_type": "code",
   "execution_count": null,
   "metadata": {},
   "outputs": [],
   "source": [
    "# you can download the data from https://drive.google.com/file/d/1NMvNjcWGtD4naNNmwe0mEcfnZTSitwO9/view?usp=sharing\n",
    "data_dir = \"path/to/data\" # /mnt/spatial_datasets\n",
    "data_type = \"10x\"\n",
    "dataset_dir = 'human_dorsolateral_pre-frontal_cortex'\n",
    "sample_ids = [\"151673\", \"151674\", \"151675\", \"151676\"]"
   ]
  },
  {
   "cell_type": "code",
   "execution_count": null,
   "metadata": {},
   "outputs": [],
   "source": [
    "def read_slices(sample_ids):\n",
    "    adatas = []\n",
    "    for i, sample_id in enumerate(sample_ids):\n",
    "        adatas.append(sc.read_visium(osp.join(data_dir, dataset_dir, sample_id), count_file=\"{}_filtered_feature_bc_matrix.h5\".format(sample_id)))\n",
    "        adatas[i].var_names_make_unique()\n",
    "        adatas[i].obs.index = sample_id + \"_\" + adatas[i].obs.index\n",
    "    return adatas"
   ]
  },
  {
   "cell_type": "code",
   "execution_count": null,
   "metadata": {},
   "outputs": [],
   "source": [
    "def combine_slices_every_k(sample_ids, k=4):\n",
    "    adatas = read_slices(sample_ids)\n",
    "    assert len(sample_ids) % k == 0\n",
    "    num_batch = len(sample_ids) // k\n",
    "    for i in range(num_batch):\n",
    "        slices = adatas[i*k:(i+1)*k]\n",
    "        pis = []\n",
    "        for j in range(k-1):\n",
    "            sliceA = slices[j]\n",
    "            sliceB = slices[j+1]\n",
    "            estimated_s = model_selection.select_overlap_fraction(sliceA, sliceB)\n",
    "            pis.append(PASTE2.partial_pairwise_align(sliceA, sliceB, s=estimated_s))\n",
    "        new_slices = projection.partial_stack_slices_pairwise(slices, pis)\n",
    "        combined_adata = anndata.concat(new_slices, join=\"outer\", label=\"batch\")\n",
    "        combined_adata.var = slices[0].var\n",
    "        os.makedirs(osp.join(data_dir, dataset_dir, \"_\".join(sample_ids[i*k:(i+1)*k])), exist_ok=True)\n",
    "        combined_adata.write_h5ad(osp.join(data_dir, dataset_dir, \"_\".join(sample_ids[i*k:(i+1)*k]), \"_\".join(sample_ids[i*k:(i+1)*k]) + \".h5ad\"), compression=\"gzip\")"
   ]
  },
  {
   "cell_type": "code",
   "execution_count": null,
   "metadata": {},
   "outputs": [],
   "source": [
    "combine_slices_every_k(sample_ids, k=4)"
   ]
  }
 ],
 "metadata": {
  "language_info": {
   "name": "python"
  }
 },
 "nbformat": 4,
 "nbformat_minor": 2
}
